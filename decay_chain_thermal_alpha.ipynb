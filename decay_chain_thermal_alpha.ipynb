{
 "cells": [
  {
   "cell_type": "code",
   "execution_count": 13,
   "metadata": {},
   "outputs": [
    {
     "name": "stdout",
     "output_type": "stream",
     "text": [
      "The autoreload extension is already loaded. To reload it, use:\n",
      "  %reload_ext autoreload\n"
     ]
    }
   ],
   "source": [
    "import numpy as np\n",
    "import matplotlib.pyplot as plt\n",
    "from matplotlib.ticker import NullFormatter\n",
    "from astropy.constants import R_jup, R_sun, R_earth, au, M_sun\n",
    "import pandas as pd\n",
    "import seaborn as sns\n",
    "sns.set_style('ticks')\n",
    "sns.set_context('paper')\n",
    "from numpy import pi\n",
    "from scipy import optimize\n",
    "import bateman as bt\n",
    "import thermalization as th\n",
    "import heat_alpha as ht\n",
    "%matplotlib inline\n",
    "%load_ext autoreload\n",
    "%autoreload 2"
   ]
  },
  {
   "cell_type": "code",
   "execution_count": 6,
   "metadata": {
    "collapsed": true
   },
   "outputs": [],
   "source": [
    "kb =1.38064852e-16\n",
    "h = 6.6266885e-27\n",
    "c = 2.99792458e10\n",
    "eV = 1.60218e-12\n",
    "MeV = 1.0e6*eV\n",
    "me = 9.10938356e-28\n",
    "e = 4.803204e-10\n",
    "mu = 1.66054e-24\n",
    "day = 86400.\n",
    "Msun = 1.9885e33"
   ]
  },
  {
   "cell_type": "code",
   "execution_count": 20,
   "metadata": {
    "collapsed": true
   },
   "outputs": [],
   "source": [
    "fkappa = pd.read_csv('input_files/effective_kappa_A85_238.dat',delim_whitespace=True,header=None)\n",
    "kappa_effs = 0.02*np.ones((240,100))\n",
    "for i in range(0,len(fkappa)):\n",
    "    A = fkappa[0][i]\n",
    "    Z = fkappa[1][i]\n",
    "    kappa = fkappa[3][i]\n",
    "    kappa_effs[A][Z] = kappa\n",
    "#    print A, Z, kappa_effs[A][Z]\n",
    "ffraction = pd.read_csv('input_files/each_ejecta_A238_lod.dat',delim_whitespace=True,header=None)"
   ]
  },
  {
   "cell_type": "code",
   "execution_count": 22,
   "metadata": {
    "collapsed": true
   },
   "outputs": [],
   "source": [
    "Mej = 0.05*Msun\n",
    "vej = 0.1*c\n",
    "\n",
    "alpha_max = 4.\n",
    "alpha_min = 1.0\n",
    "n = 4.5\n",
    "\n",
    "Amin = 88\n",
    "Amax = 238\n",
    "\n",
    "Yas = np.zeros(239)\n",
    "Yas[222] = 4.0e-5\n",
    "Yas[223] = 2.7e-5\n",
    "Yas[224] = 4.1e-5\n",
    "Yas[225] = 2.7e-5"
   ]
  },
  {
   "cell_type": "code",
   "execution_count": 23,
   "metadata": {},
   "outputs": [
    {
     "name": "stdout",
     "output_type": "stream",
     "text": [
      "total time step =  44\n"
     ]
    }
   ],
   "source": [
    "beta = ht.calc_heating_rate(Mej,vej, Amin,Amax,ffraction,kappa_effs,alpha_max,alpha_min,n)"
   ]
  },
  {
   "cell_type": "code",
   "execution_count": 14,
   "metadata": {},
   "outputs": [
    {
     "name": "stdout",
     "output_type": "stream",
     "text": [
      "222  number of chains: 1\n",
      "total time step =  49\n",
      "223  number of chains: 1\n",
      "total time step =  49\n",
      "224  number of chains: 2\n",
      "total time step =  49\n",
      "225  number of chains: 2\n",
      "total time step =  49\n",
      "end\n"
     ]
    }
   ],
   "source": [
    "alpha = ht.calc_heating_rate_alpha(Mej,vej, Amin,Amax,ffraction,Yas,kappa_effs,alpha_max,alpha_min,n)"
   ]
  },
  {
   "cell_type": "code",
   "execution_count": 24,
   "metadata": {},
   "outputs": [],
   "source": [
    "data = {'t':beta['t'],'total':beta['total'],'gamma':beta['gamma'], 'electron':beta['electron'], 'gamma_th':beta['gamma_th'],'electron_th':beta['electron_th']}\n",
    "df = pd.DataFrame(data=data)\n",
    "df.to_csv('output_files/heat_beta_88_209_M001_v04_v1_n45.dat',sep=\" \",index=False,header=None,columns=['t', 'total', 'gamma', 'electron','gamma_th','electron_th'])"
   ]
  },
  {
   "cell_type": "code",
   "execution_count": 27,
   "metadata": {
    "collapsed": true
   },
   "outputs": [],
   "source": [
    "data = {'t':alpha['t'],'total':alpha['total'],'alpha':alpha['alpha'],'gamma':alpha['gamma'], 'electron':alpha['electron'],'alpha_th':alpha['alpha_th'], 'gamma_th':alpha['gamma_th'],'electron_th':alpha['electron_th']}\n",
    "df = pd.DataFrame(data=data)\n",
    "df.to_csv('output_files/heat_alpha_Wu19_88_209_M001_v04_v1_n45.dat',sep=\" \",index=False,header=None,columns=['t', 'total', 'alpha', 'gamma', 'electron','alpha_th','gamma_th','electron_th'])"
   ]
  },
  {
   "cell_type": "code",
   "execution_count": 16,
   "metadata": {},
   "outputs": [
    {
     "data": {
      "image/png": "[encoded data removed]",
      "text/plain": [
       "<matplotlib.figure.Figure at 0x10ad58a90>"
      ]
     },
     "metadata": {},
     "output_type": "display_data"
    }
   ],
   "source": [
    "plt.ylim(1.0e7,1.0e11)\n",
    "plt.xlim(0.1,300.)\n",
    "plt.loglog(alpha['t'],np.multiply(alpha['alpha'],1.))\n",
    "plt.loglog(alpha['t'],np.multiply(alpha['total'],1.),linestyle='-.')\n",
    "#plt.loglog(np.multiply(ts,1./day),tmps,linestyle='-.')\n",
    "plt.loglog(alpha['t'],np.multiply(alpha['alpha_th'],1.),linestyle=':')\n",
    "plt.loglog(beta['t'],np.multiply(beta['electron_th'],1.),linestyle='-')\n",
    "#plt.loglog(alpha['t'],fp(np.array(alpha['t'])),linestyle=':')\n",
    "#plt.loglog(np.multiply(ts,1./day),tmp2s,linestyle='-')\n",
    "#plt.loglog(np.multiply(ts,1./day),np.multiply(total_elect_ths,Mej))\n",
    "#plt.loglog(np.multiply(ts,1./day),np.multiply(total_elects,Mej))\n",
    "#plt.loglog(np.multiply(ts,1./day),f(np.multiply(ts,1./day)))\n",
    "plt.savefig('tmp.pdf')\n",
    "plt.show()"
   ]
  },
  {
   "cell_type": "code",
   "execution_count": null,
   "metadata": {
    "collapsed": true
   },
   "outputs": [],
   "source": []
  }
 ],
 "metadata": {
  "kernelspec": {
   "display_name": "Python [default]",
   "language": "python",
   "name": "python2"
  },
  "language_info": {
   "codemirror_mode": {
    "name": "ipython",
    "version": 2
   },
   "file_extension": ".py",
   "mimetype": "text/x-python",
   "name": "python",
   "nbconvert_exporter": "python",
   "pygments_lexer": "ipython2",
   "version": "2.7.13"
  }
 },
 "nbformat": 4,
 "nbformat_minor": 2
}
